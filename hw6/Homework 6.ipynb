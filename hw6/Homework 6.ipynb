{
 "cells": [
  {
   "cell_type": "code",
   "execution_count": 13,
   "metadata": {},
   "outputs": [],
   "source": [
    "a_string = \"the, the, the, that, that, they\"\n",
    "\n",
    "def freq(a_string):\n",
    "    \"\"\"The number of occurences for each are\"\"\"\n",
    "    string_dict= {}\n",
    "    for word in a_string.split():\n",
    "        if word in string_dict:\n",
    "            string_dict[word] += 1\n",
    "        else:\n",
    "            string_dict[word] = 1\n",
    "    return(\"Character frequences in each\")"
   ]
  },
  {
   "cell_type": "code",
   "execution_count": 7,
   "metadata": {},
   "outputs": [
    {
     "name": "stdout",
     "output_type": "stream",
     "text": [
      "(1, 10)\n"
     ]
    }
   ],
   "source": [
    "list = [1,2,3,4,5,6,7,8,9,10]\n",
    "min_and_max = min(list), max(list)\n",
    "print(min_and_max)"
   ]
  },
  {
   "cell_type": "code",
   "execution_count": 8,
   "metadata": {},
   "outputs": [
    {
     "name": "stdout",
     "output_type": "stream",
     "text": [
      "[ 1  6  8 14]\n"
     ]
    }
   ],
   "source": [
    "import numpy as np\n",
    "a=[1,5,2,6]\n",
    "print(np.cumsum(a))"
   ]
  },
  {
   "cell_type": "code",
   "execution_count": 9,
   "metadata": {},
   "outputs": [
    {
     "name": "stdout",
     "output_type": "stream",
     "text": [
      "The dot product of a and b is 22\n"
     ]
    }
   ],
   "source": [
    "a= [1, 5,2, 6]\n",
    "b= [0, 2,3, 1]\n",
    "\n",
    "dot_product = np.array(a) @ np.array(b)\n",
    "print(\"The dot product of a and b is\", dot_product)"
   ]
  },
  {
   "cell_type": "code",
   "execution_count": null,
   "metadata": {},
   "outputs": [],
   "source": []
  }
 ],
 "metadata": {
  "kernelspec": {
   "display_name": "Python 3",
   "language": "python",
   "name": "python3"
  },
  "language_info": {
   "codemirror_mode": {
    "name": "ipython",
    "version": 3
   },
   "file_extension": ".py",
   "mimetype": "text/x-python",
   "name": "python",
   "nbconvert_exporter": "python",
   "pygments_lexer": "ipython3",
   "version": "3.7.3"
  }
 },
 "nbformat": 4,
 "nbformat_minor": 2
}
