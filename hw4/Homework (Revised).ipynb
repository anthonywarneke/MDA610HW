{
 "cells": [
  {
   "cell_type": "code",
   "execution_count": 1,
   "metadata": {},
   "outputs": [
    {
     "name": "stdout",
     "output_type": "stream",
     "text": [
      "what is your name?\tAnthony Warneke\n",
      "ekenraW ynohtnA\n"
     ]
    }
   ],
   "source": [
    "userinfo = input(str(\"what is your name?\\t\"))\n",
    "answer=userinfo[::-1]\n",
    "print(answer)"
   ]
  },
  {
   "cell_type": "code",
   "execution_count": 2,
   "metadata": {},
   "outputs": [
    {
     "name": "stdout",
     "output_type": "stream",
     "text": [
      "what number do you want to add?\t5\n",
      "[1, 2, 3, 5]\n"
     ]
    }
   ],
   "source": [
    "list = [1,2,3]\n",
    "userinput=int(input(\"what number do you want to add?\\t\"))\n",
    "list.append(userinput)\n",
    "print(list)"
   ]
  },
  {
   "cell_type": "code",
   "execution_count": 3,
   "metadata": {},
   "outputs": [
    {
     "name": "stdout",
     "output_type": "stream",
     "text": [
      "input the radius of the circle : 5\n",
      "The area of the circle with radius 5.0 is: 78.53981633974483\n"
     ]
    }
   ],
   "source": [
    "from math import pi\n",
    "r = float(input (\"input the radius of the circle : \"))\n",
    "print(\"The area of the circle with radius \" + str(r) + \" is: \" +str(pi * r**2))"
   ]
  },
  {
   "cell_type": "code",
   "execution_count": 5,
   "metadata": {},
   "outputs": [
    {
     "name": "stdout",
     "output_type": "stream",
     "text": [
      "What number would you like?\t148.41315910257657\n",
      "2.8511235679460374e+64\n",
      "64.45501604007838\n"
     ]
    }
   ],
   "source": [
    "x = float(input(\"What number would you like?\\t\"))\n",
    "from math import e\n",
    "import math\n",
    "y = e**x\n",
    "print(y)\n",
    "print(math.log10(y))"
   ]
  }
 ],
 "metadata": {
  "kernelspec": {
   "display_name": "Python 3",
   "language": "python",
   "name": "python3"
  },
  "language_info": {
   "codemirror_mode": {
    "name": "ipython",
    "version": 3
   },
   "file_extension": ".py",
   "mimetype": "text/x-python",
   "name": "python",
   "nbconvert_exporter": "python",
   "pygments_lexer": "ipython3",
   "version": "3.7.3"
  }
 },
 "nbformat": 4,
 "nbformat_minor": 2
}
