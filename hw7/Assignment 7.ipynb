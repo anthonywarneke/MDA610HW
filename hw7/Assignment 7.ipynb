{
 "cells": [
  {
   "cell_type": "code",
   "execution_count": 1,
   "metadata": {},
   "outputs": [
    {
     "data": {
      "text/plain": [
       "{'Mean': 69.22222222222223,\n",
       " 'Standard Deviation': 1.62528788577423e-06,\n",
       " 'Varience': 784.3950617283951}"
      ]
     },
     "execution_count": 1,
     "metadata": {},
     "output_type": "execute_result"
    }
   ],
   "source": [
    "Stats= {}\n",
    "def comp(nums):\n",
    "    count=len(nums)\n",
    "    mean=sum(nums)/count\n",
    "    Stats['Mean']=mean\n",
    "    squared= []\n",
    "    for i in nums:\n",
    "        t=(i-mean)**2\n",
    "        squared.append(t)\n",
    "    Stats['Standard Deviation']=((sum(squared))/len(nums))**-2\n",
    "    Stats['Varience']=(sum(squared))/len(nums)\n",
    "    return(Stats)\n",
    "\n",
    "raw=[75,83,54,2,59,67,88,94,101,]\n",
    "\n",
    "comp(raw)"
   ]
  },
  {
   "cell_type": "code",
   "execution_count": 3,
   "metadata": {},
   "outputs": [
    {
     "data": {
      "text/plain": [
       "69.22222222222223"
      ]
     },
     "execution_count": 3,
     "metadata": {},
     "output_type": "execute_result"
    }
   ],
   "source": [
    "Stats['Mean']"
   ]
  },
  {
   "cell_type": "code",
   "execution_count": 4,
   "metadata": {},
   "outputs": [
    {
     "name": "stdout",
     "output_type": "stream",
     "text": [
      "Enter a series of numbers. When the series is done type stop:2,4,6,8,stop,10\n"
     ]
    },
    {
     "data": {
      "text/plain": [
       "5.0"
      ]
     },
     "execution_count": 4,
     "metadata": {},
     "output_type": "execute_result"
    }
   ],
   "source": [
    "def mean():\n",
    "    x=input(\"Enter a series of numbers. When the series is done type stop:\")\n",
    "    huh=x.split(\",\",)\n",
    "    \n",
    "    new=[]\n",
    "    \n",
    "    for i in huh:\n",
    "        if i =='stop':\n",
    "            break\n",
    "        else:\n",
    "            new.append(int(i))\n",
    "    avg=sum(new)/len(new)\n",
    "    return(avg)\n",
    "\n",
    "mean()"
   ]
  },
  {
   "cell_type": "code",
   "execution_count": null,
   "metadata": {},
   "outputs": [],
   "source": []
  }
 ],
 "metadata": {
  "kernelspec": {
   "display_name": "Python 3",
   "language": "python",
   "name": "python3"
  },
  "language_info": {
   "codemirror_mode": {
    "name": "ipython",
    "version": 3
   },
   "file_extension": ".py",
   "mimetype": "text/x-python",
   "name": "python",
   "nbconvert_exporter": "python",
   "pygments_lexer": "ipython3",
   "version": "3.7.3"
  }
 },
 "nbformat": 4,
 "nbformat_minor": 2
}
